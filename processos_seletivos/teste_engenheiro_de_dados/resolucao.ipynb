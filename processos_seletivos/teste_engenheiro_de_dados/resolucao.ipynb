{
 "cells": [
  {
   "cell_type": "markdown",
   "id": "26465261-9b8f-40a9-ad4a-a4b34556e54d",
   "metadata": {},
   "source": [
    "#### Carregando as bases"
   ]
  },
  {
   "cell_type": "code",
   "execution_count": 1,
   "id": "cc55b02a-f1ec-4085-8401-c8bbf8bd7919",
   "metadata": {},
   "outputs": [],
   "source": [
    "import pandas as pd\n",
    "\n",
    "\n",
    "caminho_dados = r'C:\\Users\\mau_a\\OneDrive\\Área de Trabalho\\Python 2024\\teste_principia-main\\dados.xlsx'\n",
    "caminho_sistema = r'C:\\Users\\mau_a\\OneDrive\\Área de Trabalho\\Python 2024\\teste_principia-main\\sistema.xlsx'\n",
    "\n",
    "\n",
    "dados = pd.read_excel(caminho_dados)\n",
    "sistema = pd.read_excel(caminho_sistema)\n",
    "\n",
    "\n",
    "#  não conseguimos ler o arquivo json em função do comprimento distinto dos arrays\n",
    "# dados_json = pd.read_json('dados.json')\n",
    "\n",
    "\n",
    "# abriremos o arquivo dados.json do seguinte modo:\n",
    "\n",
    "import json\n",
    "\n",
    "with open('dados.json', 'r') as f:\n",
    "    cliente = json.load(f)"
   ]
  },
  {
   "cell_type": "markdown",
   "id": "eebd5af2-42c2-4a33-ad9e-9f3ffa5ba6b3",
   "metadata": {},
   "source": [
    "#### 1) O CPF do cliente é válido?"
   ]
  },
  {
   "cell_type": "code",
   "execution_count": 2,
   "id": "aa1cb97a-3975-4b8d-9406-cf028ae1a781",
   "metadata": {},
   "outputs": [
    {
     "name": "stdout",
     "output_type": "stream",
     "text": [
      "O cpf do cliente é inválido\n"
     ]
    }
   ],
   "source": [
    "# Script para validação do CPF\n",
    "\n",
    "def validar_cpf(cpf):\n",
    "    # Remove caracteres não numéricos\n",
    "    cpf = ''.join(filter(str.isdigit, cpf))\n",
    "    \n",
    "    # Verifica o comprimento\n",
    "    if len(cpf) != 11:\n",
    "        return False\n",
    "\n",
    "    # Verifica se todos os dígitos são iguais\n",
    "    if cpf == cpf[0] * 11:\n",
    "        return False\n",
    "\n",
    "    # Função para calcular o dígito verificador\n",
    "    def calcular_digito(cpf, pesos):\n",
    "        soma = sum(int(cpf[i]) * pesos[i] for i in range(len(pesos)))\n",
    "        resto = soma % 11\n",
    "        return 0 if resto < 2 else 11 - resto\n",
    "\n",
    "    # Calcula os dois dígitos verificadores\n",
    "    pesos_1 = list(range(10, 1, -1))\n",
    "    digito1 = calcular_digito(cpf[:9], pesos_1)\n",
    "    \n",
    "    pesos_2 = list(range(11, 1, -1))\n",
    "    digito2 = calcular_digito(cpf[:10], pesos_2)\n",
    "\n",
    "    # Verifica se os dígitos verificadores estão corretos\n",
    "    return cpf[-2:] == f\"{digito1}{digito2}\"\n",
    "\n",
    "\n",
    "if validar_cpf(cliente['cpf']) == False:\n",
    "    print('O cpf do cliente é inválido')\n",
    "else:\n",
    "    print('O cpf do cliente é válido')\n"
   ]
  },
  {
   "cell_type": "markdown",
   "id": "9bda72cf-ef1a-4cbd-85da-44100108e703",
   "metadata": {},
   "source": [
    "#### 2) O cliente possui nome completo ?"
   ]
  },
  {
   "cell_type": "code",
   "execution_count": 3,
   "id": "de1bc10b-da17-4d60-bbc2-78e757e38e4e",
   "metadata": {},
   "outputs": [
    {
     "data": {
      "text/plain": [
       "'LUCAS DA SILVA'"
      ]
     },
     "execution_count": 3,
     "metadata": {},
     "output_type": "execute_result"
    }
   ],
   "source": [
    "cliente['nome']"
   ]
  },
  {
   "cell_type": "markdown",
   "id": "294dfd26-a042-4a1f-bbcd-87957a10e08a",
   "metadata": {},
   "source": [
    "RESPOSTA: Sim, seu nome completo é \"Lucas da Silva\""
   ]
  },
  {
   "cell_type": "markdown",
   "id": "f642f99b-ca2b-4cbd-b811-3cff110e2d63",
   "metadata": {},
   "source": [
    "#### 3) A data de nascimento é válida? É uma idade possível? (Maiores de 17 anos)"
   ]
  },
  {
   "cell_type": "code",
   "execution_count": 4,
   "id": "6741dd02-abbf-4a1e-b906-d27f028f30f4",
   "metadata": {},
   "outputs": [
    {
     "name": "stdout",
     "output_type": "stream",
     "text": [
      "Idade: 25\n"
     ]
    }
   ],
   "source": [
    "# Script para cálculo de idade\n",
    "\n",
    "from datetime import datetime\n",
    "\n",
    "def calcular_idade(data_nascimento_str):\n",
    "    # Obtém a data de hoje\n",
    "    hoje = datetime.now()\n",
    "\n",
    "    # Converte a string da data de nascimento para um objeto datetime\n",
    "    data_nascimento = datetime.strptime(data_nascimento_str, \"%Y-%m-%d\")\n",
    "    \n",
    "    # Calcula a idade inicial com base na diferença de anos\n",
    "    idade = hoje.year - data_nascimento.year\n",
    "\n",
    "    # Ajusta a idade se o aniversário ainda não ocorreu neste ano\n",
    "    if (hoje.month, hoje.day) < (data_nascimento.month, data_nascimento.day):\n",
    "        idade -= 1\n",
    "\n",
    "    return idade\n",
    "\n",
    "\n",
    "# Calcula a idade usando a data de nascimento do dicionário\n",
    "idade = calcular_idade(cliente['dataNascimento'])\n",
    "\n",
    "# Exibe a idade calculada\n",
    "print(\"Idade:\", idade)"
   ]
  },
  {
   "cell_type": "markdown",
   "id": "69cf56f5-bfb4-4205-9147-4f9b3488d95c",
   "metadata": {},
   "source": [
    "#### 4) O email é válido?"
   ]
  },
  {
   "cell_type": "code",
   "execution_count": 5,
   "id": "ad00fbb6-72ee-4513-9f33-a6406c714dae",
   "metadata": {},
   "outputs": [
    {
     "data": {
      "text/plain": [
       "[{'email': 'lucas@silva.com'}]"
      ]
     },
     "execution_count": 5,
     "metadata": {},
     "output_type": "execute_result"
    }
   ],
   "source": [
    "cliente['emails']"
   ]
  },
  {
   "cell_type": "code",
   "execution_count": 6,
   "id": "cc56dc2f-902d-4861-97b9-031fce2a01d1",
   "metadata": {
    "scrolled": true
   },
   "outputs": [
    {
     "data": {
      "text/html": [
       "<div>\n",
       "<style scoped>\n",
       "    .dataframe tbody tr th:only-of-type {\n",
       "        vertical-align: middle;\n",
       "    }\n",
       "\n",
       "    .dataframe tbody tr th {\n",
       "        vertical-align: top;\n",
       "    }\n",
       "\n",
       "    .dataframe thead th {\n",
       "        text-align: right;\n",
       "    }\n",
       "</style>\n",
       "<table border=\"1\" class=\"dataframe\">\n",
       "  <thead>\n",
       "    <tr style=\"text-align: right;\">\n",
       "      <th></th>\n",
       "      <th>nome</th>\n",
       "      <th>idade</th>\n",
       "      <th>cpf</th>\n",
       "      <th>rg</th>\n",
       "      <th>data_nasc</th>\n",
       "      <th>mae</th>\n",
       "      <th>pai</th>\n",
       "      <th>email</th>\n",
       "      <th>cep</th>\n",
       "      <th>endereco</th>\n",
       "      <th>numero</th>\n",
       "      <th>bairro</th>\n",
       "      <th>cidade</th>\n",
       "      <th>estado</th>\n",
       "      <th>telefone_fixo</th>\n",
       "      <th>celular</th>\n",
       "      <th>altura</th>\n",
       "      <th>peso</th>\n",
       "      <th>tipo_sanguineo</th>\n",
       "    </tr>\n",
       "  </thead>\n",
       "  <tbody>\n",
       "    <tr>\n",
       "      <th>0</th>\n",
       "      <td>Isadora Daiane Maya Almada</td>\n",
       "      <td>63</td>\n",
       "      <td>042.905.867-59</td>\n",
       "      <td>43.463.191-7</td>\n",
       "      <td>01/03/1961</td>\n",
       "      <td>Clara Gabriela Aurora</td>\n",
       "      <td>Marcelo Marcos Vinicius Enzo Almada</td>\n",
       "      <td>isadora-almada96@sent.com</td>\n",
       "      <td>84262-030</td>\n",
       "      <td>Rua São Vicente de Paula</td>\n",
       "      <td>410</td>\n",
       "      <td>Jardim Bom Jesus</td>\n",
       "      <td>Telêmaco Borba</td>\n",
       "      <td>PR</td>\n",
       "      <td>(42) 3627-7050</td>\n",
       "      <td>(42) 98399-5662</td>\n",
       "      <td>1,63</td>\n",
       "      <td>83</td>\n",
       "      <td>AB+</td>\n",
       "    </tr>\n",
       "    <tr>\n",
       "      <th>1</th>\n",
       "      <td>Vera Louise Farias</td>\n",
       "      <td>36</td>\n",
       "      <td>714.310.880-48</td>\n",
       "      <td>14.380.628-2</td>\n",
       "      <td>02/03/1988</td>\n",
       "      <td>Stefany Malu</td>\n",
       "      <td>Pedro Henrique Jorge Farias</td>\n",
       "      <td>vera_louise_farias@brastek.com.br</td>\n",
       "      <td>68908-039</td>\n",
       "      <td>Rua Rondônia</td>\n",
       "      <td>541</td>\n",
       "      <td>Infraero</td>\n",
       "      <td>Macapá</td>\n",
       "      <td>AP</td>\n",
       "      <td>(96) 3774-6482</td>\n",
       "      <td>(96) 98862-2882</td>\n",
       "      <td>1,69</td>\n",
       "      <td>60</td>\n",
       "      <td>B+</td>\n",
       "    </tr>\n",
       "    <tr>\n",
       "      <th>2</th>\n",
       "      <td>Isabelle Rosângela da Paz</td>\n",
       "      <td>21</td>\n",
       "      <td>325.727.750-42</td>\n",
       "      <td>16.269.881-1</td>\n",
       "      <td>01/03/2003</td>\n",
       "      <td>Teresinha Allana Benedita</td>\n",
       "      <td>Bernardo Cláudio da Paz</td>\n",
       "      <td>isabellerosangeladapaz@lbrazil.com.br</td>\n",
       "      <td>49042-090</td>\n",
       "      <td>Rua Coronel Antônio Oliveira</td>\n",
       "      <td>471</td>\n",
       "      <td>São Conrado</td>\n",
       "      <td>Aracaju</td>\n",
       "      <td>SE</td>\n",
       "      <td>(79) 3811-3209</td>\n",
       "      <td>(79) 98159-4239</td>\n",
       "      <td>1,79</td>\n",
       "      <td>56</td>\n",
       "      <td>A+</td>\n",
       "    </tr>\n",
       "    <tr>\n",
       "      <th>3</th>\n",
       "      <td>Mariane Malu Cardoso</td>\n",
       "      <td>51</td>\n",
       "      <td>203.164.390-88</td>\n",
       "      <td>35.731.899-7</td>\n",
       "      <td>18/02/1973</td>\n",
       "      <td>Evelyn Débora</td>\n",
       "      <td>Renan Erick Cardoso</td>\n",
       "      <td>mariane-cardoso84@ideiaviva.com.br</td>\n",
       "      <td>13064-824</td>\n",
       "      <td>Rua Esmeck Simões</td>\n",
       "      <td>585</td>\n",
       "      <td>Parque São Jorge</td>\n",
       "      <td>Campinas</td>\n",
       "      <td>SP</td>\n",
       "      <td>(19) 2714-3503</td>\n",
       "      <td>(19) 98286-2332</td>\n",
       "      <td>1,52</td>\n",
       "      <td>69</td>\n",
       "      <td>A+</td>\n",
       "    </tr>\n",
       "    <tr>\n",
       "      <th>4</th>\n",
       "      <td>Juliana Luciana Dias</td>\n",
       "      <td>48</td>\n",
       "      <td>393.014.370-40</td>\n",
       "      <td>13.856.809-1</td>\n",
       "      <td>22/03/1976</td>\n",
       "      <td>Brenda Sara Heloise</td>\n",
       "      <td>Theo Diego Dias</td>\n",
       "      <td>juliana_dias@performa.com.br</td>\n",
       "      <td>74770-550</td>\n",
       "      <td>Rua JDA 10</td>\n",
       "      <td>826</td>\n",
       "      <td>Jardim das Aroeiras</td>\n",
       "      <td>Goiânia</td>\n",
       "      <td>GO</td>\n",
       "      <td>(62) 2763-1538</td>\n",
       "      <td>(62) 98461-5313</td>\n",
       "      <td>1,81</td>\n",
       "      <td>50</td>\n",
       "      <td>B-</td>\n",
       "    </tr>\n",
       "  </tbody>\n",
       "</table>\n",
       "</div>"
      ],
      "text/plain": [
       "                         nome  idade             cpf            rg  \\\n",
       "0  Isadora Daiane Maya Almada     63  042.905.867-59  43.463.191-7   \n",
       "1          Vera Louise Farias     36  714.310.880-48  14.380.628-2   \n",
       "2   Isabelle Rosângela da Paz     21  325.727.750-42  16.269.881-1   \n",
       "3        Mariane Malu Cardoso     51  203.164.390-88  35.731.899-7   \n",
       "4        Juliana Luciana Dias     48  393.014.370-40  13.856.809-1   \n",
       "\n",
       "    data_nasc                        mae                                  pai  \\\n",
       "0  01/03/1961      Clara Gabriela Aurora  Marcelo Marcos Vinicius Enzo Almada   \n",
       "1  02/03/1988               Stefany Malu          Pedro Henrique Jorge Farias   \n",
       "2  01/03/2003  Teresinha Allana Benedita              Bernardo Cláudio da Paz   \n",
       "3  18/02/1973              Evelyn Débora                  Renan Erick Cardoso   \n",
       "4  22/03/1976        Brenda Sara Heloise                      Theo Diego Dias   \n",
       "\n",
       "                                   email        cep  \\\n",
       "0              isadora-almada96@sent.com  84262-030   \n",
       "1      vera_louise_farias@brastek.com.br  68908-039   \n",
       "2  isabellerosangeladapaz@lbrazil.com.br  49042-090   \n",
       "3     mariane-cardoso84@ideiaviva.com.br  13064-824   \n",
       "4           juliana_dias@performa.com.br  74770-550   \n",
       "\n",
       "                       endereco  numero               bairro          cidade  \\\n",
       "0      Rua São Vicente de Paula     410     Jardim Bom Jesus  Telêmaco Borba   \n",
       "1                  Rua Rondônia     541             Infraero          Macapá   \n",
       "2  Rua Coronel Antônio Oliveira     471          São Conrado         Aracaju   \n",
       "3             Rua Esmeck Simões     585     Parque São Jorge        Campinas   \n",
       "4                    Rua JDA 10     826  Jardim das Aroeiras         Goiânia   \n",
       "\n",
       "  estado   telefone_fixo          celular altura  peso tipo_sanguineo  \n",
       "0     PR  (42) 3627-7050  (42) 98399-5662   1,63    83            AB+  \n",
       "1     AP  (96) 3774-6482  (96) 98862-2882   1,69    60             B+  \n",
       "2     SE  (79) 3811-3209  (79) 98159-4239   1,79    56             A+  \n",
       "3     SP  (19) 2714-3503  (19) 98286-2332   1,52    69             A+  \n",
       "4     GO  (62) 2763-1538  (62) 98461-5313   1,81    50             B-  "
      ]
     },
     "execution_count": 6,
     "metadata": {},
     "output_type": "execute_result"
    }
   ],
   "source": [
    "sistema.head()"
   ]
  },
  {
   "cell_type": "markdown",
   "id": "fc94cd34-b89d-404a-8b73-5119e633a0e6",
   "metadata": {},
   "source": [
    "Considerando que os emails presentes em \"sistema.xlsx\" verificamos que os emails tem sempre o nome de uma empresa ou instituição após o @, desta forma o email do \"Lucas Silva\" parece um email pessoal e não corporativo"
   ]
  },
  {
   "cell_type": "markdown",
   "id": "8bce8abf-28ff-450d-8e8e-651cdebf09e0",
   "metadata": {},
   "source": [
    "#### 5) O Telefone informado esta no formato certo?"
   ]
  },
  {
   "cell_type": "code",
   "execution_count": 7,
   "id": "cb40d76a-4dcd-4eb9-bfa4-32eefb28aef0",
   "metadata": {},
   "outputs": [
    {
     "data": {
      "text/plain": [
       "[{'tipo': 'CELULAR', 'ddd': '11', 'telefone': '995483839'}]"
      ]
     },
     "execution_count": 7,
     "metadata": {},
     "output_type": "execute_result"
    }
   ],
   "source": [
    "cliente['telefones']"
   ]
  },
  {
   "cell_type": "code",
   "execution_count": 8,
   "id": "8d00bfd0-5561-4616-bfb5-96e71ab04cc5",
   "metadata": {},
   "outputs": [
    {
     "name": "stdout",
     "output_type": "stream",
     "text": [
      "Número de telefone 11-995483839 é válido.\n"
     ]
    }
   ],
   "source": [
    "# Script para verificar se o telefone é válido\n",
    "\n",
    "import re\n",
    "\n",
    "def validar_numero_telefone(telefone):\n",
    "    # Define o padrão para validação de telefone celular no Brasil\n",
    "    padrao = re.compile(r'^\\d{2}\\d{9}$')\n",
    "\n",
    "    # Verifica se o telefone corresponde ao padrão\n",
    "    if padrao.match(telefone):\n",
    "        return True\n",
    "    else:\n",
    "        return False\n",
    "\n",
    "def verificar_dados_telefone(dados):\n",
    "    for item in dados:\n",
    "        tipo = item.get('tipo')\n",
    "        ddd = item.get('ddd')\n",
    "        telefone = item.get('telefone')\n",
    "\n",
    "        if tipo != 'CELULAR':\n",
    "            print(\"Tipo de telefone não é CELULAR.\")\n",
    "            continue\n",
    "        \n",
    "        # Verifica se o DDD tem exatamente 2 dígitos e o telefone tem exatamente 9 dígitos\n",
    "        if len(ddd) != 2 or not ddd.isdigit():\n",
    "            print(f\"DDD inválido: {ddd}\")\n",
    "            continue\n",
    "        \n",
    "        if len(telefone) != 9 or not telefone.isdigit():\n",
    "            print(f\"Número de telefone inválido: {telefone}\")\n",
    "            continue\n",
    "        \n",
    "        # Verifica se o número completo é válido\n",
    "        numero_completo = ddd + telefone\n",
    "        if validar_numero_telefone(numero_completo):\n",
    "            print(f\"Número de telefone {ddd}-{telefone} é válido.\")\n",
    "        else:\n",
    "            print(f\"Número de telefone {ddd}-{telefone} é inválido.\")\n",
    "\n",
    "\n",
    "# Verifica os dados dos números de telefone\n",
    "verificar_dados_telefone(cliente['telefones'])"
   ]
  },
  {
   "cell_type": "markdown",
   "id": "ee02bcc0-70c6-4586-b700-7c93596db1ff",
   "metadata": {},
   "source": [
    "#### 6) Valide o CEP e Endereço informados, utlizando-se da API: https://viacep.com.br/"
   ]
  },
  {
   "cell_type": "code",
   "execution_count": 24,
   "id": "baee446d-5106-4a0e-96bc-d525cb7d7fcf",
   "metadata": {},
   "outputs": [
    {
     "name": "stdin",
     "output_type": "stream",
     "text": [
      "Digite o CEP (somente números):  08775470\n"
     ]
    },
    {
     "name": "stdout",
     "output_type": "stream",
     "text": [
      "Logradouro: Rua Alzevides Gonçalves Pereira\n",
      "Bairro: Vila Áurea Maria\n",
      "Cidade: Mogi das Cruzes\n",
      "Estado: SP\n",
      "CEP: 08775-470\n"
     ]
    }
   ],
   "source": [
    "import requests\n",
    "\n",
    "def consultar_cep(cep):\n",
    "    # URL base da API do ViaCEP\n",
    "    url = f'https://viacep.com.br/ws/{cep}/json/'\n",
    "    \n",
    "    try:\n",
    "        # Faz a requisição GET para a API\n",
    "        resposta = requests.get(url)\n",
    "        \n",
    "        # Verifica se a resposta foi bem-sucedida\n",
    "        resposta.raise_for_status()\n",
    "        \n",
    "        # Converte a resposta em JSON\n",
    "        resposta_json = resposta.json()\n",
    "        \n",
    "        # Retorna os dados\n",
    "        return resposta_json\n",
    "\n",
    "    except requests.RequestException as e:\n",
    "        print(f\"Erro ao fazer a requisição: {e}\")\n",
    "        return None\n",
    "\n",
    "def main():\n",
    "    # Obtém o CEP do usuário\n",
    "    cep = input(\"Digite o CEP (somente números): \")\n",
    "    \n",
    "    # Valida se o CEP tem exatamente 8 dígitos\n",
    "    if len(cep) != 8 or not cep.isdigit():\n",
    "        print(\"CEP inválido. O CEP deve ter exatamente 8 dígitos numéricos.\")\n",
    "        return\n",
    "\n",
    "    # Consulta o CEP\n",
    "    resposta_json = consultar_cep(cep)\n",
    "\n",
    "    if resposta_json:\n",
    "        # Exibe os dados retornados pela API\n",
    "        print(f\"Logradouro: {resposta_json.get('logradouro', 'Não disponível')}\")\n",
    "        print(f\"Bairro: {resposta_json.get('bairro', 'Não disponível')}\")\n",
    "        print(f\"Cidade: {resposta_json.get('localidade', 'Não disponível')}\")\n",
    "        print(f\"Estado: {resposta_json.get('uf', 'Não disponível')}\")\n",
    "        print(f\"CEP: {resposta_json.get('cep', 'Não disponível')}\")\n",
    "    else:\n",
    "        print(\"Não foi possível obter os dados para o CEP fornecido.\")\n",
    "\n",
    "if __name__ == \"__main__\":\n",
    "    main()\n"
   ]
  },
  {
   "cell_type": "markdown",
   "id": "b0a59028-24df-4fd8-a021-a220da291b50",
   "metadata": {},
   "source": [
    "#### 7) Após essas verificações lhe foi dado um modelo da base que se encontra em um determinado sistema (\"sistema.xlsx\"), os clientes que você recebeu são novos clientes? Quem já está na base? É necessário atualizar os dados? "
   ]
  },
  {
   "cell_type": "code",
   "execution_count": 10,
   "id": "c1ebb2b1-75af-46e5-9ce0-efa08f6941b5",
   "metadata": {},
   "outputs": [],
   "source": [
    "# Renomeia-se a coluna 'CPF' para 'cpf' deixando as colunas de cpf em sistemas e dados com o mesmo nome\n",
    "\n",
    "dados.rename(columns={'CPF': 'cpf'}, inplace=True)"
   ]
  },
  {
   "cell_type": "code",
   "execution_count": 11,
   "id": "e06d343f-32ff-4265-ac73-6b1ff9e9655c",
   "metadata": {},
   "outputs": [],
   "source": [
    "# Realizaremos um inner join para verificar se existem valores repetidos de CPF\n",
    "\n",
    "def repetidos(sistema, dados):\n",
    "    pd.merge(sistema, dados, how='inner', on='cpf')\n",
    "    return repetidos"
   ]
  },
  {
   "cell_type": "markdown",
   "id": "e4a86616-c7d8-4981-a960-1b37789a2680",
   "metadata": {},
   "source": [
    "Encontramos o \"César Roberto Castro\", já cadastrado em nosso sistema, logo os demais clientes precisam ser inseridos no sistema ainda"
   ]
  },
  {
   "cell_type": "markdown",
   "id": "e70e45c5-c75b-40a1-ac29-47cf4b270083",
   "metadata": {},
   "source": [
    "#### Salvando em JSON os clientes que precisam ser inseridos na base"
   ]
  },
  {
   "cell_type": "code",
   "execution_count": 25,
   "id": "6dc830b4-dfa5-4cce-b78e-f87c53e09d3e",
   "metadata": {},
   "outputs": [
    {
     "name": "stdout",
     "output_type": "stream",
     "text": [
      "Arquivo JSON criado com sucesso!\n"
     ]
    }
   ],
   "source": [
    "# Identifica clientes no arquivo dados que não são comuns ao arquivo sistema\n",
    "clientes_nao_comuns_sistema = dados[~dados['cpf'].isin(sistema['cpf'])]\n",
    "\n",
    "# Salva o resultado em um arquivo JSON\n",
    "clientes_nao_comuns_sistema.to_json('clientes_nao_comuns_sistema.json', orient='records', lines=True)\n",
    "\n",
    "print(\"Arquivo JSON criado com sucesso!\")"
   ]
  },
  {
   "cell_type": "markdown",
   "id": "28814424-876f-4866-b5d6-ee108a6a0cd7",
   "metadata": {},
   "source": [
    "#### Salvando em XLSX os clientes que não precisam ser inseridos na base"
   ]
  },
  {
   "cell_type": "code",
   "execution_count": 34,
   "id": "74ff2980-9ae7-44ed-bb6f-065872c0efba",
   "metadata": {},
   "outputs": [],
   "source": [
    "# Identifica clientes no arquivo dados que  são comuns ao arquivo sistema\n",
    "clientes_comuns_sistema = dados[dados['cpf'].isin(sistema['cpf'])]\n",
    "\n",
    "# Salva o resultado em um arquivo Excel\n",
    "clientes_comuns_sistema.to_excel('clientes_comuns_sistema.xlsx', index=False)"
   ]
  }
 ],
 "metadata": {
  "kernelspec": {
   "display_name": "Python 3 (ipykernel)",
   "language": "python",
   "name": "python3"
  },
  "language_info": {
   "codemirror_mode": {
    "name": "ipython",
    "version": 3
   },
   "file_extension": ".py",
   "mimetype": "text/x-python",
   "name": "python",
   "nbconvert_exporter": "python",
   "pygments_lexer": "ipython3",
   "version": "3.11.9"
  }
 },
 "nbformat": 4,
 "nbformat_minor": 5
}
