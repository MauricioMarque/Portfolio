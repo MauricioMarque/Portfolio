{
 "cells": [
  {
   "cell_type": "markdown",
   "metadata": {},
   "source": [
    "# Python Insights - Analisando Dados com Python\n",
    "\n",
    "### Case - Cancelamento de Clientes\n",
    "\n",
    "Você foi contratado por uma empresa com mais de 800 mil clientes para um projeto de Dados. Recentemente a empresa percebeu que da sua base total de clientes, a maioria são clientes inativos, ou seja, que já cancelaram o serviço.\n",
    "\n",
    "Precisando melhorar seus resultados ela quer conseguir entender os principais motivos desses cancelamentos e quais as ações mais eficientes para reduzir esse número.\n",
    "\n",
    "Base de dados e arquivos: https://drive.google.com/drive/folders/1uDesZePdkhiraJmiyeZ-w5tfc8XsNYFZ?usp=drive_link"
   ]
  },
  {
   "cell_type": "markdown",
   "metadata": {},
   "source": [
    "## Importando Bibliotecas"
   ]
  },
  {
   "cell_type": "code",
   "execution_count": 1,
   "metadata": {},
   "outputs": [],
   "source": [
    "import pandas as pd\n",
    "import matplotlib.pyplot as plt\n",
    "import seaborn as sns\n",
    "import warnings\n",
    "# Ignorar todos os avisos\n",
    "warnings.filterwarnings(\"ignore\")"
   ]
  },
  {
   "cell_type": "markdown",
   "metadata": {},
   "source": [
    "## Carregando tabela"
   ]
  },
  {
   "cell_type": "code",
   "execution_count": 2,
   "metadata": {},
   "outputs": [
    {
     "data": {
      "text/html": [
       "<div>\n",
       "<style scoped>\n",
       "    .dataframe tbody tr th:only-of-type {\n",
       "        vertical-align: middle;\n",
       "    }\n",
       "\n",
       "    .dataframe tbody tr th {\n",
       "        vertical-align: top;\n",
       "    }\n",
       "\n",
       "    .dataframe thead th {\n",
       "        text-align: right;\n",
       "    }\n",
       "</style>\n",
       "<table border=\"1\" class=\"dataframe\">\n",
       "  <thead>\n",
       "    <tr style=\"text-align: right;\">\n",
       "      <th></th>\n",
       "      <th>CustomerID</th>\n",
       "      <th>idade</th>\n",
       "      <th>sexo</th>\n",
       "      <th>tempo_como_cliente</th>\n",
       "      <th>frequencia_uso</th>\n",
       "      <th>ligacoes_callcenter</th>\n",
       "      <th>dias_atraso</th>\n",
       "      <th>assinatura</th>\n",
       "      <th>duracao_contrato</th>\n",
       "      <th>total_gasto</th>\n",
       "      <th>meses_ultima_interacao</th>\n",
       "      <th>cancelou</th>\n",
       "    </tr>\n",
       "  </thead>\n",
       "  <tbody>\n",
       "    <tr>\n",
       "      <th>0</th>\n",
       "      <td>349936.0</td>\n",
       "      <td>23.0</td>\n",
       "      <td>Male</td>\n",
       "      <td>13.0</td>\n",
       "      <td>22.0</td>\n",
       "      <td>2.0</td>\n",
       "      <td>1.0</td>\n",
       "      <td>Standard</td>\n",
       "      <td>Annual</td>\n",
       "      <td>909.58</td>\n",
       "      <td>23.0</td>\n",
       "      <td>0.0</td>\n",
       "    </tr>\n",
       "    <tr>\n",
       "      <th>1</th>\n",
       "      <td>100634.0</td>\n",
       "      <td>49.0</td>\n",
       "      <td>Male</td>\n",
       "      <td>55.0</td>\n",
       "      <td>16.0</td>\n",
       "      <td>3.0</td>\n",
       "      <td>6.0</td>\n",
       "      <td>Premium</td>\n",
       "      <td>Monthly</td>\n",
       "      <td>207.00</td>\n",
       "      <td>29.0</td>\n",
       "      <td>1.0</td>\n",
       "    </tr>\n",
       "    <tr>\n",
       "      <th>2</th>\n",
       "      <td>301263.0</td>\n",
       "      <td>30.0</td>\n",
       "      <td>Male</td>\n",
       "      <td>7.0</td>\n",
       "      <td>1.0</td>\n",
       "      <td>0.0</td>\n",
       "      <td>8.0</td>\n",
       "      <td>Basic</td>\n",
       "      <td>Annual</td>\n",
       "      <td>768.78</td>\n",
       "      <td>7.0</td>\n",
       "      <td>0.0</td>\n",
       "    </tr>\n",
       "    <tr>\n",
       "      <th>3</th>\n",
       "      <td>119358.0</td>\n",
       "      <td>26.0</td>\n",
       "      <td>Male</td>\n",
       "      <td>40.0</td>\n",
       "      <td>5.0</td>\n",
       "      <td>3.0</td>\n",
       "      <td>8.0</td>\n",
       "      <td>Premium</td>\n",
       "      <td>Annual</td>\n",
       "      <td>398.00</td>\n",
       "      <td>12.0</td>\n",
       "      <td>1.0</td>\n",
       "    </tr>\n",
       "    <tr>\n",
       "      <th>4</th>\n",
       "      <td>130955.0</td>\n",
       "      <td>27.0</td>\n",
       "      <td>Female</td>\n",
       "      <td>17.0</td>\n",
       "      <td>30.0</td>\n",
       "      <td>5.0</td>\n",
       "      <td>6.0</td>\n",
       "      <td>Basic</td>\n",
       "      <td>Annual</td>\n",
       "      <td>507.00</td>\n",
       "      <td>15.0</td>\n",
       "      <td>1.0</td>\n",
       "    </tr>\n",
       "    <tr>\n",
       "      <th>...</th>\n",
       "      <td>...</td>\n",
       "      <td>...</td>\n",
       "      <td>...</td>\n",
       "      <td>...</td>\n",
       "      <td>...</td>\n",
       "      <td>...</td>\n",
       "      <td>...</td>\n",
       "      <td>...</td>\n",
       "      <td>...</td>\n",
       "      <td>...</td>\n",
       "      <td>...</td>\n",
       "      <td>...</td>\n",
       "    </tr>\n",
       "    <tr>\n",
       "      <th>49995</th>\n",
       "      <td>195680.0</td>\n",
       "      <td>62.0</td>\n",
       "      <td>Female</td>\n",
       "      <td>35.0</td>\n",
       "      <td>7.0</td>\n",
       "      <td>2.0</td>\n",
       "      <td>8.0</td>\n",
       "      <td>Basic</td>\n",
       "      <td>Annual</td>\n",
       "      <td>232.00</td>\n",
       "      <td>15.0</td>\n",
       "      <td>1.0</td>\n",
       "    </tr>\n",
       "    <tr>\n",
       "      <th>49996</th>\n",
       "      <td>43477.0</td>\n",
       "      <td>36.0</td>\n",
       "      <td>Male</td>\n",
       "      <td>43.0</td>\n",
       "      <td>21.0</td>\n",
       "      <td>2.0</td>\n",
       "      <td>30.0</td>\n",
       "      <td>Basic</td>\n",
       "      <td>Quarterly</td>\n",
       "      <td>928.00</td>\n",
       "      <td>30.0</td>\n",
       "      <td>1.0</td>\n",
       "    </tr>\n",
       "    <tr>\n",
       "      <th>49997</th>\n",
       "      <td>169273.0</td>\n",
       "      <td>55.0</td>\n",
       "      <td>Male</td>\n",
       "      <td>42.0</td>\n",
       "      <td>8.0</td>\n",
       "      <td>1.0</td>\n",
       "      <td>12.0</td>\n",
       "      <td>Basic</td>\n",
       "      <td>Monthly</td>\n",
       "      <td>326.00</td>\n",
       "      <td>27.0</td>\n",
       "      <td>1.0</td>\n",
       "    </tr>\n",
       "    <tr>\n",
       "      <th>49998</th>\n",
       "      <td>310693.0</td>\n",
       "      <td>40.0</td>\n",
       "      <td>Female</td>\n",
       "      <td>14.0</td>\n",
       "      <td>19.0</td>\n",
       "      <td>1.0</td>\n",
       "      <td>17.0</td>\n",
       "      <td>Premium</td>\n",
       "      <td>Quarterly</td>\n",
       "      <td>826.76</td>\n",
       "      <td>12.0</td>\n",
       "      <td>0.0</td>\n",
       "    </tr>\n",
       "    <tr>\n",
       "      <th>49999</th>\n",
       "      <td>251915.0</td>\n",
       "      <td>64.0</td>\n",
       "      <td>Male</td>\n",
       "      <td>41.0</td>\n",
       "      <td>29.0</td>\n",
       "      <td>5.0</td>\n",
       "      <td>9.0</td>\n",
       "      <td>Basic</td>\n",
       "      <td>Quarterly</td>\n",
       "      <td>700.38</td>\n",
       "      <td>18.0</td>\n",
       "      <td>1.0</td>\n",
       "    </tr>\n",
       "  </tbody>\n",
       "</table>\n",
       "<p>50000 rows × 12 columns</p>\n",
       "</div>"
      ],
      "text/plain": [
       "       CustomerID  idade    sexo  tempo_como_cliente  frequencia_uso  \\\n",
       "0        349936.0   23.0    Male                13.0            22.0   \n",
       "1        100634.0   49.0    Male                55.0            16.0   \n",
       "2        301263.0   30.0    Male                 7.0             1.0   \n",
       "3        119358.0   26.0    Male                40.0             5.0   \n",
       "4        130955.0   27.0  Female                17.0            30.0   \n",
       "...           ...    ...     ...                 ...             ...   \n",
       "49995    195680.0   62.0  Female                35.0             7.0   \n",
       "49996     43477.0   36.0    Male                43.0            21.0   \n",
       "49997    169273.0   55.0    Male                42.0             8.0   \n",
       "49998    310693.0   40.0  Female                14.0            19.0   \n",
       "49999    251915.0   64.0    Male                41.0            29.0   \n",
       "\n",
       "       ligacoes_callcenter  dias_atraso assinatura duracao_contrato  \\\n",
       "0                      2.0          1.0   Standard           Annual   \n",
       "1                      3.0          6.0    Premium          Monthly   \n",
       "2                      0.0          8.0      Basic           Annual   \n",
       "3                      3.0          8.0    Premium           Annual   \n",
       "4                      5.0          6.0      Basic           Annual   \n",
       "...                    ...          ...        ...              ...   \n",
       "49995                  2.0          8.0      Basic           Annual   \n",
       "49996                  2.0         30.0      Basic        Quarterly   \n",
       "49997                  1.0         12.0      Basic          Monthly   \n",
       "49998                  1.0         17.0    Premium        Quarterly   \n",
       "49999                  5.0          9.0      Basic        Quarterly   \n",
       "\n",
       "       total_gasto  meses_ultima_interacao  cancelou  \n",
       "0           909.58                    23.0       0.0  \n",
       "1           207.00                    29.0       1.0  \n",
       "2           768.78                     7.0       0.0  \n",
       "3           398.00                    12.0       1.0  \n",
       "4           507.00                    15.0       1.0  \n",
       "...            ...                     ...       ...  \n",
       "49995       232.00                    15.0       1.0  \n",
       "49996       928.00                    30.0       1.0  \n",
       "49997       326.00                    27.0       1.0  \n",
       "49998       826.76                    12.0       0.0  \n",
       "49999       700.38                    18.0       1.0  \n",
       "\n",
       "[50000 rows x 12 columns]"
      ]
     },
     "execution_count": 2,
     "metadata": {},
     "output_type": "execute_result"
    }
   ],
   "source": [
    "tabela = pd.read_csv(\"cancelamentos_sample.csv\")\n",
    "tabela"
   ]
  },
  {
   "cell_type": "markdown",
   "metadata": {},
   "source": [
    "## Tratando os dados"
   ]
  },
  {
   "cell_type": "markdown",
   "metadata": {},
   "source": [
    "### 1) Identificando e removendo valorez vazios"
   ]
  },
  {
   "cell_type": "code",
   "execution_count": 3,
   "metadata": {},
   "outputs": [
    {
     "name": "stdout",
     "output_type": "stream",
     "text": [
      "<class 'pandas.core.frame.DataFrame'>\n",
      "RangeIndex: 50000 entries, 0 to 49999\n",
      "Data columns (total 12 columns):\n",
      " #   Column                  Non-Null Count  Dtype  \n",
      "---  ------                  --------------  -----  \n",
      " 0   CustomerID              50000 non-null  float64\n",
      " 1   idade                   50000 non-null  float64\n",
      " 2   sexo                    49997 non-null  object \n",
      " 3   tempo_como_cliente      49998 non-null  float64\n",
      " 4   frequencia_uso          50000 non-null  float64\n",
      " 5   ligacoes_callcenter     50000 non-null  float64\n",
      " 6   dias_atraso             50000 non-null  float64\n",
      " 7   assinatura              50000 non-null  object \n",
      " 8   duracao_contrato        50000 non-null  object \n",
      " 9   total_gasto             50000 non-null  float64\n",
      " 10  meses_ultima_interacao  50000 non-null  float64\n",
      " 11  cancelou                50000 non-null  float64\n",
      "dtypes: float64(9), object(3)\n",
      "memory usage: 4.6+ MB\n",
      "None\n",
      "<class 'pandas.core.frame.DataFrame'>\n",
      "Index: 49996 entries, 0 to 49999\n",
      "Data columns (total 12 columns):\n",
      " #   Column                  Non-Null Count  Dtype  \n",
      "---  ------                  --------------  -----  \n",
      " 0   CustomerID              49996 non-null  float64\n",
      " 1   idade                   49996 non-null  float64\n",
      " 2   sexo                    49996 non-null  object \n",
      " 3   tempo_como_cliente      49996 non-null  float64\n",
      " 4   frequencia_uso          49996 non-null  float64\n",
      " 5   ligacoes_callcenter     49996 non-null  float64\n",
      " 6   dias_atraso             49996 non-null  float64\n",
      " 7   assinatura              49996 non-null  object \n",
      " 8   duracao_contrato        49996 non-null  object \n",
      " 9   total_gasto             49996 non-null  float64\n",
      " 10  meses_ultima_interacao  49996 non-null  float64\n",
      " 11  cancelou                49996 non-null  float64\n",
      "dtypes: float64(9), object(3)\n",
      "memory usage: 5.0+ MB\n",
      "None\n"
     ]
    }
   ],
   "source": [
    "print(tabela.info())\n",
    "tabela = tabela.dropna(how='any', axis=0)\n",
    "print(tabela.info())"
   ]
  },
  {
   "cell_type": "markdown",
   "metadata": {},
   "source": [
    "## EDA"
   ]
  },
  {
   "cell_type": "markdown",
   "metadata": {},
   "source": [
    "### 1) Quantas pessoas cancelaram e qual a porcentagem?"
   ]
  },
  {
   "cell_type": "code",
   "execution_count": 4,
   "metadata": {},
   "outputs": [
    {
     "name": "stdout",
     "output_type": "stream",
     "text": [
      "cancelou\n",
      "1.0    28393\n",
      "0.0    21603\n",
      "Name: count, dtype: int64\n",
      "cancelou\n",
      "1.0    56.8%\n",
      "0.0    43.2%\n",
      "Name: proportion, dtype: object\n"
     ]
    }
   ],
   "source": [
    "print(tabela[\"cancelou\"].value_counts())\n",
    "print(tabela[\"cancelou\"].value_counts(normalize=True).map(\"{:.1%}\".format))"
   ]
  },
  {
   "cell_type": "markdown",
   "metadata": {},
   "source": [
    "### 56.8% cancelaram\n",
    "### 43.2% não cancelaram"
   ]
  },
  {
   "cell_type": "markdown",
   "metadata": {},
   "source": [
    "### 2) Quantas pessoas pertencem a cada tipo de contrato e a porcentagem?"
   ]
  },
  {
   "cell_type": "code",
   "execution_count": 5,
   "metadata": {},
   "outputs": [
    {
     "name": "stdout",
     "output_type": "stream",
     "text": [
      "duracao_contrato\n",
      "Annual       20156\n",
      "Quarterly    19956\n",
      "Monthly       9884\n",
      "Name: count, dtype: int64\n",
      "duracao_contrato\n",
      "Annual       0.403152\n",
      "Quarterly    0.399152\n",
      "Monthly      0.197696\n",
      "Name: proportion, dtype: float64\n"
     ]
    }
   ],
   "source": [
    "print(tabela[\"duracao_contrato\"].value_counts())\n",
    "print(tabela[\"duracao_contrato\"].value_counts(normalize=True))"
   ]
  },
  {
   "cell_type": "markdown",
   "metadata": {},
   "source": [
    "### Annual       40.31%\n",
    "### Quarterly    39.91%\n",
    "### Monthly      19.77%"
   ]
  },
  {
   "cell_type": "markdown",
   "metadata": {},
   "source": [
    "### 3) Analisando as médias das demais variáveis por duração de contrato"
   ]
  },
  {
   "cell_type": "code",
   "execution_count": 6,
   "metadata": {},
   "outputs": [
    {
     "data": {
      "text/html": [
       "<div>\n",
       "<style scoped>\n",
       "    .dataframe tbody tr th:only-of-type {\n",
       "        vertical-align: middle;\n",
       "    }\n",
       "\n",
       "    .dataframe tbody tr th {\n",
       "        vertical-align: top;\n",
       "    }\n",
       "\n",
       "    .dataframe thead th {\n",
       "        text-align: right;\n",
       "    }\n",
       "</style>\n",
       "<table border=\"1\" class=\"dataframe\">\n",
       "  <thead>\n",
       "    <tr style=\"text-align: right;\">\n",
       "      <th></th>\n",
       "      <th>CustomerID</th>\n",
       "      <th>idade</th>\n",
       "      <th>tempo_como_cliente</th>\n",
       "      <th>frequencia_uso</th>\n",
       "      <th>ligacoes_callcenter</th>\n",
       "      <th>dias_atraso</th>\n",
       "      <th>total_gasto</th>\n",
       "      <th>meses_ultima_interacao</th>\n",
       "      <th>cancelou</th>\n",
       "    </tr>\n",
       "    <tr>\n",
       "      <th>duracao_contrato</th>\n",
       "      <th></th>\n",
       "      <th></th>\n",
       "      <th></th>\n",
       "      <th></th>\n",
       "      <th></th>\n",
       "      <th></th>\n",
       "      <th></th>\n",
       "      <th></th>\n",
       "      <th></th>\n",
       "    </tr>\n",
       "  </thead>\n",
       "  <tbody>\n",
       "    <tr>\n",
       "      <th>Annual</th>\n",
       "      <td>248594.055418</td>\n",
       "      <td>38.783985</td>\n",
       "      <td>31.416452</td>\n",
       "      <td>15.910449</td>\n",
       "      <td>3.277585</td>\n",
       "      <td>12.533985</td>\n",
       "      <td>650.925840</td>\n",
       "      <td>14.231544</td>\n",
       "      <td>0.464080</td>\n",
       "    </tr>\n",
       "    <tr>\n",
       "      <th>Monthly</th>\n",
       "      <td>132400.770437</td>\n",
       "      <td>41.428470</td>\n",
       "      <td>30.677964</td>\n",
       "      <td>15.577600</td>\n",
       "      <td>4.923917</td>\n",
       "      <td>15.078814</td>\n",
       "      <td>547.508921</td>\n",
       "      <td>15.392655</td>\n",
       "      <td>1.000000</td>\n",
       "    </tr>\n",
       "    <tr>\n",
       "      <th>Quarterly</th>\n",
       "      <td>249900.662658</td>\n",
       "      <td>38.833935</td>\n",
       "      <td>31.522099</td>\n",
       "      <td>15.842504</td>\n",
       "      <td>3.256113</td>\n",
       "      <td>12.480006</td>\n",
       "      <td>654.102443</td>\n",
       "      <td>14.364602</td>\n",
       "      <td>0.458759</td>\n",
       "    </tr>\n",
       "  </tbody>\n",
       "</table>\n",
       "</div>"
      ],
      "text/plain": [
       "                     CustomerID      idade  tempo_como_cliente  \\\n",
       "duracao_contrato                                                 \n",
       "Annual            248594.055418  38.783985           31.416452   \n",
       "Monthly           132400.770437  41.428470           30.677964   \n",
       "Quarterly         249900.662658  38.833935           31.522099   \n",
       "\n",
       "                  frequencia_uso  ligacoes_callcenter  dias_atraso  \\\n",
       "duracao_contrato                                                     \n",
       "Annual                 15.910449             3.277585    12.533985   \n",
       "Monthly                15.577600             4.923917    15.078814   \n",
       "Quarterly              15.842504             3.256113    12.480006   \n",
       "\n",
       "                  total_gasto  meses_ultima_interacao  cancelou  \n",
       "duracao_contrato                                                 \n",
       "Annual             650.925840               14.231544  0.464080  \n",
       "Monthly            547.508921               15.392655  1.000000  \n",
       "Quarterly          654.102443               14.364602  0.458759  "
      ]
     },
     "execution_count": 6,
     "metadata": {},
     "output_type": "execute_result"
    }
   ],
   "source": [
    "tabela.groupby(\"duracao_contrato\").mean(numeric_only=True)"
   ]
  },
  {
   "cell_type": "markdown",
   "metadata": {},
   "source": [
    "### Taxa de cancelamento para plano mensal é 100%"
   ]
  },
  {
   "cell_type": "markdown",
   "metadata": {},
   "source": [
    "###  Vamos eliminar o plano mensal do dataset e continuar analisando"
   ]
  },
  {
   "cell_type": "code",
   "execution_count": 7,
   "metadata": {},
   "outputs": [
    {
     "name": "stdout",
     "output_type": "stream",
     "text": [
      "cancelou\n",
      "0.0    21603\n",
      "1.0    18509\n",
      "Name: count, dtype: int64\n",
      "cancelou\n",
      "0.0    53.9%\n",
      "1.0    46.1%\n",
      "Name: proportion, dtype: object\n"
     ]
    }
   ],
   "source": [
    "tabela = tabela[tabela[\"duracao_contrato\"]!=\"Monthly\"]\n",
    "print(tabela[\"cancelou\"].value_counts())\n",
    "print(tabela[\"cancelou\"].value_counts(normalize=True).map(\"{:.1%}\".format))"
   ]
  },
  {
   "cell_type": "markdown",
   "metadata": {},
   "source": [
    "### A taxa de cancelamentos caiu de 56.8% para 46.1% com a eliminação do plano mensal"
   ]
  },
  {
   "cell_type": "markdown",
   "metadata": {},
   "source": [
    "### 4) Qual a proporção de pessoas em cada tipo de assinatura?"
   ]
  },
  {
   "cell_type": "code",
   "execution_count": 8,
   "metadata": {},
   "outputs": [
    {
     "data": {
      "text/html": [
       "<div>\n",
       "<style scoped>\n",
       "    .dataframe tbody tr th:only-of-type {\n",
       "        vertical-align: middle;\n",
       "    }\n",
       "\n",
       "    .dataframe tbody tr th {\n",
       "        vertical-align: top;\n",
       "    }\n",
       "\n",
       "    .dataframe thead th {\n",
       "        text-align: right;\n",
       "    }\n",
       "</style>\n",
       "<table border=\"1\" class=\"dataframe\">\n",
       "  <thead>\n",
       "    <tr style=\"text-align: right;\">\n",
       "      <th></th>\n",
       "      <th>CustomerID</th>\n",
       "      <th>idade</th>\n",
       "      <th>tempo_como_cliente</th>\n",
       "      <th>frequencia_uso</th>\n",
       "      <th>ligacoes_callcenter</th>\n",
       "      <th>dias_atraso</th>\n",
       "      <th>total_gasto</th>\n",
       "      <th>meses_ultima_interacao</th>\n",
       "      <th>cancelou</th>\n",
       "    </tr>\n",
       "    <tr>\n",
       "      <th>assinatura</th>\n",
       "      <th></th>\n",
       "      <th></th>\n",
       "      <th></th>\n",
       "      <th></th>\n",
       "      <th></th>\n",
       "      <th></th>\n",
       "      <th></th>\n",
       "      <th></th>\n",
       "      <th></th>\n",
       "    </tr>\n",
       "  </thead>\n",
       "  <tbody>\n",
       "    <tr>\n",
       "      <th>Basic</th>\n",
       "      <td>246144.091386</td>\n",
       "      <td>38.777049</td>\n",
       "      <td>32.266908</td>\n",
       "      <td>15.938459</td>\n",
       "      <td>3.328064</td>\n",
       "      <td>12.538752</td>\n",
       "      <td>648.339261</td>\n",
       "      <td>14.317036</td>\n",
       "      <td>0.476517</td>\n",
       "    </tr>\n",
       "    <tr>\n",
       "      <th>Premium</th>\n",
       "      <td>250921.064070</td>\n",
       "      <td>38.885766</td>\n",
       "      <td>31.120813</td>\n",
       "      <td>15.762111</td>\n",
       "      <td>3.238038</td>\n",
       "      <td>12.430697</td>\n",
       "      <td>653.459842</td>\n",
       "      <td>14.306071</td>\n",
       "      <td>0.453947</td>\n",
       "    </tr>\n",
       "    <tr>\n",
       "      <th>Standard</th>\n",
       "      <td>250534.448326</td>\n",
       "      <td>38.764035</td>\n",
       "      <td>31.055850</td>\n",
       "      <td>15.929697</td>\n",
       "      <td>3.237345</td>\n",
       "      <td>12.551601</td>\n",
       "      <td>655.504070</td>\n",
       "      <td>14.271479</td>\n",
       "      <td>0.454499</td>\n",
       "    </tr>\n",
       "  </tbody>\n",
       "</table>\n",
       "</div>"
      ],
      "text/plain": [
       "               CustomerID      idade  tempo_como_cliente  frequencia_uso  \\\n",
       "assinatura                                                                 \n",
       "Basic       246144.091386  38.777049           32.266908       15.938459   \n",
       "Premium     250921.064070  38.885766           31.120813       15.762111   \n",
       "Standard    250534.448326  38.764035           31.055850       15.929697   \n",
       "\n",
       "            ligacoes_callcenter  dias_atraso  total_gasto  \\\n",
       "assinatura                                                  \n",
       "Basic                  3.328064    12.538752   648.339261   \n",
       "Premium                3.238038    12.430697   653.459842   \n",
       "Standard               3.237345    12.551601   655.504070   \n",
       "\n",
       "            meses_ultima_interacao  cancelou  \n",
       "assinatura                                    \n",
       "Basic                    14.317036  0.476517  \n",
       "Premium                  14.306071  0.453947  \n",
       "Standard                 14.271479  0.454499  "
      ]
     },
     "metadata": {},
     "output_type": "display_data"
    },
    {
     "name": "stdout",
     "output_type": "stream",
     "text": [
      "assinatura\n",
      "Standard    0.343264\n",
      "Premium     0.333466\n",
      "Basic       0.323270\n",
      "Name: proportion, dtype: float64\n"
     ]
    }
   ],
   "source": [
    "display(tabela.groupby(\"assinatura\").mean(numeric_only=True))\n",
    "print(tabela[\"assinatura\"].value_counts(normalize=True))"
   ]
  },
  {
   "cell_type": "markdown",
   "metadata": {},
   "source": [
    "### Não conseguimos tirar nenhuma conclusão em relação ao tipo de assinatura"
   ]
  },
  {
   "cell_type": "markdown",
   "metadata": {},
   "source": [
    "### 5) Plotando histogramas para entender melhor os dados em relação aos cancelamentos"
   ]
  },
  {
   "cell_type": "code",
   "execution_count": 9,
   "metadata": {},
   "outputs": [
    {
     "data": {
      "text/plain": [
       "Text(0.5, 1.0, 'Taxa de cancelamento por nº de ligações')"
      ]
     },
     "execution_count": 9,
     "metadata": {},
     "output_type": "execute_result"
    },
    {
     "data": {
      "image/png": "[encoded data removed]",
      "text/plain": [
       "<Figure size 640x480 with 1 Axes>"
      ]
     },
     "metadata": {},
     "output_type": "display_data"
    }
   ],
   "source": [
    "sns.histplot(data=tabela, x ='ligacoes_callcenter', hue='cancelou', bins=20, stat='percent')\n",
    "plt.ylabel('Porcentagem')\n",
    "plt.title('Taxa de cancelamento por nº de ligações')"
   ]
  },
  {
   "cell_type": "markdown",
   "metadata": {},
   "source": [
    "### Vemos que acima de 5 ligações a taxa de cancelamento é de 100 %"
   ]
  },
  {
   "cell_type": "code",
   "execution_count": 10,
   "metadata": {},
   "outputs": [
    {
     "data": {
      "text/plain": [
       "Text(0.5, 1.0, 'Taxa de cancelamento por dias de atraso')"
      ]
     },
     "execution_count": 10,
     "metadata": {},
     "output_type": "execute_result"
    },
    {
     "data": {
      "image/png": "[encoded data removed]",
      "text/plain": [
       "<Figure size 640x480 with 1 Axes>"
      ]
     },
     "metadata": {},
     "output_type": "display_data"
    }
   ],
   "source": [
    "sns.histplot(data=tabela, x ='dias_atraso', hue='cancelou', bins=20, stat='percent')\n",
    "plt.ylabel('Porcentagem')\n",
    "plt.title('Taxa de cancelamento por dias de atraso')"
   ]
  },
  {
   "cell_type": "markdown",
   "metadata": {},
   "source": [
    "### Vemos que acima de 20 dias de atraso a taxa de cancelamento é de 100 %"
   ]
  },
  {
   "cell_type": "markdown",
   "metadata": {},
   "source": [
    "### Vamos remover agora os casos com ligacoes_callcenter < 5 e dias_atraso < 20"
   ]
  },
  {
   "cell_type": "code",
   "execution_count": 11,
   "metadata": {},
   "outputs": [
    {
     "data": {
      "text/html": [
       "<div>\n",
       "<style scoped>\n",
       "    .dataframe tbody tr th:only-of-type {\n",
       "        vertical-align: middle;\n",
       "    }\n",
       "\n",
       "    .dataframe tbody tr th {\n",
       "        vertical-align: top;\n",
       "    }\n",
       "\n",
       "    .dataframe thead th {\n",
       "        text-align: right;\n",
       "    }\n",
       "</style>\n",
       "<table border=\"1\" class=\"dataframe\">\n",
       "  <thead>\n",
       "    <tr style=\"text-align: right;\">\n",
       "      <th></th>\n",
       "      <th>CustomerID</th>\n",
       "      <th>idade</th>\n",
       "      <th>sexo</th>\n",
       "      <th>tempo_como_cliente</th>\n",
       "      <th>frequencia_uso</th>\n",
       "      <th>ligacoes_callcenter</th>\n",
       "      <th>dias_atraso</th>\n",
       "      <th>assinatura</th>\n",
       "      <th>duracao_contrato</th>\n",
       "      <th>total_gasto</th>\n",
       "      <th>meses_ultima_interacao</th>\n",
       "      <th>cancelou</th>\n",
       "    </tr>\n",
       "  </thead>\n",
       "  <tbody>\n",
       "    <tr>\n",
       "      <th>0</th>\n",
       "      <td>349936.0</td>\n",
       "      <td>23.0</td>\n",
       "      <td>Male</td>\n",
       "      <td>13.0</td>\n",
       "      <td>22.0</td>\n",
       "      <td>2.0</td>\n",
       "      <td>1.0</td>\n",
       "      <td>Standard</td>\n",
       "      <td>Annual</td>\n",
       "      <td>909.58</td>\n",
       "      <td>23.0</td>\n",
       "      <td>0.0</td>\n",
       "    </tr>\n",
       "    <tr>\n",
       "      <th>2</th>\n",
       "      <td>301263.0</td>\n",
       "      <td>30.0</td>\n",
       "      <td>Male</td>\n",
       "      <td>7.0</td>\n",
       "      <td>1.0</td>\n",
       "      <td>0.0</td>\n",
       "      <td>8.0</td>\n",
       "      <td>Basic</td>\n",
       "      <td>Annual</td>\n",
       "      <td>768.78</td>\n",
       "      <td>7.0</td>\n",
       "      <td>0.0</td>\n",
       "    </tr>\n",
       "    <tr>\n",
       "      <th>3</th>\n",
       "      <td>119358.0</td>\n",
       "      <td>26.0</td>\n",
       "      <td>Male</td>\n",
       "      <td>40.0</td>\n",
       "      <td>5.0</td>\n",
       "      <td>3.0</td>\n",
       "      <td>8.0</td>\n",
       "      <td>Premium</td>\n",
       "      <td>Annual</td>\n",
       "      <td>398.00</td>\n",
       "      <td>12.0</td>\n",
       "      <td>1.0</td>\n",
       "    </tr>\n",
       "    <tr>\n",
       "      <th>6</th>\n",
       "      <td>345190.0</td>\n",
       "      <td>49.0</td>\n",
       "      <td>Male</td>\n",
       "      <td>6.0</td>\n",
       "      <td>7.0</td>\n",
       "      <td>0.0</td>\n",
       "      <td>0.0</td>\n",
       "      <td>Standard</td>\n",
       "      <td>Annual</td>\n",
       "      <td>751.00</td>\n",
       "      <td>11.0</td>\n",
       "      <td>0.0</td>\n",
       "    </tr>\n",
       "    <tr>\n",
       "      <th>7</th>\n",
       "      <td>405747.0</td>\n",
       "      <td>33.0</td>\n",
       "      <td>Male</td>\n",
       "      <td>15.0</td>\n",
       "      <td>18.0</td>\n",
       "      <td>1.0</td>\n",
       "      <td>20.0</td>\n",
       "      <td>Standard</td>\n",
       "      <td>Annual</td>\n",
       "      <td>839.71</td>\n",
       "      <td>25.0</td>\n",
       "      <td>0.0</td>\n",
       "    </tr>\n",
       "    <tr>\n",
       "      <th>...</th>\n",
       "      <td>...</td>\n",
       "      <td>...</td>\n",
       "      <td>...</td>\n",
       "      <td>...</td>\n",
       "      <td>...</td>\n",
       "      <td>...</td>\n",
       "      <td>...</td>\n",
       "      <td>...</td>\n",
       "      <td>...</td>\n",
       "      <td>...</td>\n",
       "      <td>...</td>\n",
       "      <td>...</td>\n",
       "    </tr>\n",
       "    <tr>\n",
       "      <th>49991</th>\n",
       "      <td>300321.0</td>\n",
       "      <td>24.0</td>\n",
       "      <td>Female</td>\n",
       "      <td>33.0</td>\n",
       "      <td>28.0</td>\n",
       "      <td>1.0</td>\n",
       "      <td>11.0</td>\n",
       "      <td>Premium</td>\n",
       "      <td>Annual</td>\n",
       "      <td>844.05</td>\n",
       "      <td>9.0</td>\n",
       "      <td>0.0</td>\n",
       "    </tr>\n",
       "    <tr>\n",
       "      <th>49992</th>\n",
       "      <td>434747.0</td>\n",
       "      <td>37.0</td>\n",
       "      <td>Male</td>\n",
       "      <td>46.0</td>\n",
       "      <td>29.0</td>\n",
       "      <td>2.0</td>\n",
       "      <td>9.0</td>\n",
       "      <td>Standard</td>\n",
       "      <td>Quarterly</td>\n",
       "      <td>517.86</td>\n",
       "      <td>3.0</td>\n",
       "      <td>0.0</td>\n",
       "    </tr>\n",
       "    <tr>\n",
       "      <th>49994</th>\n",
       "      <td>190074.0</td>\n",
       "      <td>63.0</td>\n",
       "      <td>Male</td>\n",
       "      <td>16.0</td>\n",
       "      <td>24.0</td>\n",
       "      <td>2.0</td>\n",
       "      <td>18.0</td>\n",
       "      <td>Standard</td>\n",
       "      <td>Quarterly</td>\n",
       "      <td>442.00</td>\n",
       "      <td>26.0</td>\n",
       "      <td>1.0</td>\n",
       "    </tr>\n",
       "    <tr>\n",
       "      <th>49995</th>\n",
       "      <td>195680.0</td>\n",
       "      <td>62.0</td>\n",
       "      <td>Female</td>\n",
       "      <td>35.0</td>\n",
       "      <td>7.0</td>\n",
       "      <td>2.0</td>\n",
       "      <td>8.0</td>\n",
       "      <td>Basic</td>\n",
       "      <td>Annual</td>\n",
       "      <td>232.00</td>\n",
       "      <td>15.0</td>\n",
       "      <td>1.0</td>\n",
       "    </tr>\n",
       "    <tr>\n",
       "      <th>49998</th>\n",
       "      <td>310693.0</td>\n",
       "      <td>40.0</td>\n",
       "      <td>Female</td>\n",
       "      <td>14.0</td>\n",
       "      <td>19.0</td>\n",
       "      <td>1.0</td>\n",
       "      <td>17.0</td>\n",
       "      <td>Premium</td>\n",
       "      <td>Quarterly</td>\n",
       "      <td>826.76</td>\n",
       "      <td>12.0</td>\n",
       "      <td>0.0</td>\n",
       "    </tr>\n",
       "  </tbody>\n",
       "</table>\n",
       "<p>26267 rows × 12 columns</p>\n",
       "</div>"
      ],
      "text/plain": [
       "       CustomerID  idade    sexo  tempo_como_cliente  frequencia_uso  \\\n",
       "0        349936.0   23.0    Male                13.0            22.0   \n",
       "2        301263.0   30.0    Male                 7.0             1.0   \n",
       "3        119358.0   26.0    Male                40.0             5.0   \n",
       "6        345190.0   49.0    Male                 6.0             7.0   \n",
       "7        405747.0   33.0    Male                15.0            18.0   \n",
       "...           ...    ...     ...                 ...             ...   \n",
       "49991    300321.0   24.0  Female                33.0            28.0   \n",
       "49992    434747.0   37.0    Male                46.0            29.0   \n",
       "49994    190074.0   63.0    Male                16.0            24.0   \n",
       "49995    195680.0   62.0  Female                35.0             7.0   \n",
       "49998    310693.0   40.0  Female                14.0            19.0   \n",
       "\n",
       "       ligacoes_callcenter  dias_atraso assinatura duracao_contrato  \\\n",
       "0                      2.0          1.0   Standard           Annual   \n",
       "2                      0.0          8.0      Basic           Annual   \n",
       "3                      3.0          8.0    Premium           Annual   \n",
       "6                      0.0          0.0   Standard           Annual   \n",
       "7                      1.0         20.0   Standard           Annual   \n",
       "...                    ...          ...        ...              ...   \n",
       "49991                  1.0         11.0    Premium           Annual   \n",
       "49992                  2.0          9.0   Standard        Quarterly   \n",
       "49994                  2.0         18.0   Standard        Quarterly   \n",
       "49995                  2.0          8.0      Basic           Annual   \n",
       "49998                  1.0         17.0    Premium        Quarterly   \n",
       "\n",
       "       total_gasto  meses_ultima_interacao  cancelou  \n",
       "0           909.58                    23.0       0.0  \n",
       "2           768.78                     7.0       0.0  \n",
       "3           398.00                    12.0       1.0  \n",
       "6           751.00                    11.0       0.0  \n",
       "7           839.71                    25.0       0.0  \n",
       "...            ...                     ...       ...  \n",
       "49991       844.05                     9.0       0.0  \n",
       "49992       517.86                     3.0       0.0  \n",
       "49994       442.00                    26.0       1.0  \n",
       "49995       232.00                    15.0       1.0  \n",
       "49998       826.76                    12.0       0.0  \n",
       "\n",
       "[26267 rows x 12 columns]"
      ]
     },
     "metadata": {},
     "output_type": "display_data"
    },
    {
     "name": "stdout",
     "output_type": "stream",
     "text": [
      "cancelou\n",
      "0.0    21446\n",
      "1.0     4821\n",
      "Name: count, dtype: int64\n",
      "cancelou\n",
      "0.0    81.6%\n",
      "1.0    18.4%\n",
      "Name: proportion, dtype: object\n"
     ]
    }
   ],
   "source": [
    "tabela = tabela[(tabela[\"ligacoes_callcenter\"]<5) & (tabela[\"dias_atraso\"]<=20)]\n",
    "display(tabela)\n",
    "print(tabela[\"cancelou\"].value_counts())\n",
    "print(tabela[\"cancelou\"].value_counts(normalize=True).map(\"{:.1%}\".format))"
   ]
  },
  {
   "cell_type": "code",
   "execution_count": 12,
   "metadata": {},
   "outputs": [],
   "source": [

   ]
  },
  {
   "cell_type": "markdown",
   "metadata": {},
   "source": [
    "### Conseguindo reduzir o número de dias de atraso para abaixo de 20 e o número de ligações do call center para abaixo de 5, reduzimos a porcentagem de cancelamentos de 46.1% para 18.4%"
   ]
  },
  {
   "cell_type": "markdown",
   "metadata": {},
   "source": [
    "### CONCLUSÕES\n",
    "\n",
    "##### - Forma de contrato mensal deve ser eliminada\n",
    "##### - Necessidade de ligações no call center deve ficar abaixo de 5\n",
    "##### - Atraso no pagamento não deve passar 20 dias"
   ]
  },
  {
   "cell_type": "code",
   "execution_count": null,
   "metadata": {},
   "outputs": [],
   "source": []
  }
 ],
 "metadata": {
  "kernelspec": {
   "display_name": "Python 3 (ipykernel)",
   "language": "python",
   "name": "python3"
  },
  "language_info": {
   "codemirror_mode": {
    "name": "ipython",
    "version": 3
   },
   "file_extension": ".py",
   "mimetype": "text/x-python",
   "name": "python",
   "nbconvert_exporter": "python",
   "pygments_lexer": "ipython3",
   "version": "3.11.9"
  }
 },
 "nbformat": 4,
 "nbformat_minor": 4
}
