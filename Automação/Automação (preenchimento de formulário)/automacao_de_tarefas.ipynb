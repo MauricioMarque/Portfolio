{
 "cells": [
  {
   "cell_type": "markdown",
   "id": "391025fd",
   "metadata": {},
   "source": [
    "## Python Power Up: Automação de Tarefas | Jornada Python [Aula 1]"
   ]
  },
  {
   "cell_type": "markdown",
   "id": "921b4154",
   "metadata": {},
   "source": [
    "**Passo a passo do projeto**\n",
    "\n",
    "Passo 1: Entrar no sistema da empresa\n",
    "https://dlp.hashtagtreinamentos.com/python/intensivao/login\n",
    "\n",
    "Passo 2: Fazer login\n",
    "\n",
    "Passo 3: Importar a base de dados de produtos\n",
    "\n",
    "Passo 4: Cadastrar 1 produto\n",
    "\n",
    "Passo 5: Repetir o cadastro para todos os produtos\n",
    "\n"
   ]
  },
  {
   "cell_type": "markdown",
   "id": "38f5965e",
   "metadata": {},
   "source": [
    "Antes de tudo vamos instalar a biblioteca que vai nos auxiliar a fazer esta automação\n"
   ]
  },
  {
   "cell_type": "markdown",
   "id": "3fa09a88",
   "metadata": {},
   "source": [
    "**Instalando pyautogui**"
   ]
  },
  {
   "cell_type": "code",
   "execution_count": 3,
   "id": "3f9761ff",
   "metadata": {
    "scrolled": true
   },
   "outputs": [
    {
     "name": "stdout",
     "output_type": "stream",
     "text": [
      "Requirement already satisfied: pyautogui in c:\\users\\mau_a\\anaconda3\\lib\\site-packages (0.9.54)\n",
      "Requirement already satisfied: pymsgbox in c:\\users\\mau_a\\anaconda3\\lib\\site-packages (from pyautogui) (1.0.9)\n",
      "Requirement already satisfied: pytweening>=1.0.4 in c:\\users\\mau_a\\anaconda3\\lib\\site-packages (from pyautogui) (1.0.7)\n",
      "Requirement already satisfied: pyscreeze>=0.1.21 in c:\\users\\mau_a\\anaconda3\\lib\\site-packages (from pyautogui) (0.1.29)\n",
      "Requirement already satisfied: pygetwindow>=0.0.5 in c:\\users\\mau_a\\anaconda3\\lib\\site-packages (from pyautogui) (0.0.9)\n",
      "Requirement already satisfied: mouseinfo in c:\\users\\mau_a\\anaconda3\\lib\\site-packages (from pyautogui) (0.1.3)\n",
      "Requirement already satisfied: pyrect in c:\\users\\mau_a\\anaconda3\\lib\\site-packages (from pygetwindow>=0.0.5->pyautogui) (0.2.0)\n",
      "Requirement already satisfied: pyscreenshot in c:\\users\\mau_a\\anaconda3\\lib\\site-packages (from pyscreeze>=0.1.21->pyautogui) (3.1)\n",
      "Requirement already satisfied: Pillow>=9.3.0 in c:\\users\\mau_a\\anaconda3\\lib\\site-packages (from pyscreeze>=0.1.21->pyautogui) (9.4.0)\n",
      "Requirement already satisfied: pyperclip in c:\\users\\mau_a\\anaconda3\\lib\\site-packages (from mouseinfo->pyautogui) (1.8.2)\n",
      "Requirement already satisfied: EasyProcess in c:\\users\\mau_a\\anaconda3\\lib\\site-packages (from pyscreenshot->pyscreeze>=0.1.21->pyautogui) (1.1)\n",
      "Requirement already satisfied: entrypoint2 in c:\\users\\mau_a\\anaconda3\\lib\\site-packages (from pyscreenshot->pyscreeze>=0.1.21->pyautogui) (1.1)\n",
      "Requirement already satisfied: mss in c:\\users\\mau_a\\anaconda3\\lib\\site-packages (from pyscreenshot->pyscreeze>=0.1.21->pyautogui) (9.0.1)\n",
      "Note: you may need to restart the kernel to use updated packages.\n"
     ]
    }
   ],
   "source": [
    "pip install pyautogui"
   ]
  },
  {
   "cell_type": "code",
   "execution_count": 4,
   "id": "4a7b335c",
   "metadata": {},
   "outputs": [
    {
     "ename": "NameError",
     "evalue": "name 'time' is not defined",
     "output_type": "error",
     "traceback": [
      "\u001b[1;31m---------------------------------------------------------------------------\u001b[0m",
      "\u001b[1;31mNameError\u001b[0m                                 Traceback (most recent call last)",
      "Cell \u001b[1;32mIn[4], line 13\u001b[0m\n\u001b[0;32m     10\u001b[0m pyautogui\u001b[38;5;241m.\u001b[39mwrite(link)\n\u001b[0;32m     11\u001b[0m pyautogui\u001b[38;5;241m.\u001b[39mpress(\u001b[38;5;124m'\u001b[39m\u001b[38;5;124menter\u001b[39m\u001b[38;5;124m'\u001b[39m)\n\u001b[1;32m---> 13\u001b[0m time\u001b[38;5;241m.\u001b[39msleep(\u001b[38;5;241m3\u001b[39m)\n\u001b[0;32m     15\u001b[0m pyautogui\u001b[38;5;241m.\u001b[39mclick(x\u001b[38;5;241m=\u001b[39m\u001b[38;5;241m824\u001b[39m, y\u001b[38;5;241m=\u001b[39m\u001b[38;5;241m397\u001b[39m)\n\u001b[0;32m     17\u001b[0m pyautogui\u001b[38;5;241m.\u001b[39mwrite(\u001b[38;5;124m\"\u001b[39m\u001b[38;5;124mpythonimpressionador@gmail.com\u001b[39m\u001b[38;5;124m\"\u001b[39m)\n",
      "\u001b[1;31mNameError\u001b[0m: name 'time' is not defined"
     ]
    }
   ],
   "source": [
    "import pyautogui\n",
    "\n",
    "pyautogui.PAUSE = 0.5\n",
    "\n",
    "pyautogui.press('win')\n",
    "pyautogui.write('chrome')\n",
    "pyautogui.press('enter')\n",
    "\n",
    "link = \"https://dlp.hashtagtreinamentos.com/python/intensivao/login\"\n",
    "pyautogui.write(link)\n",
    "pyautogui.press('enter')\n",
    "\n",
    "time.sleep(3)\n",
    "\n",
    "pyautogui.click(x=824, y=397)\n",
    "\n",
    "pyautogui.write(\"pythonimpressionador@gmail.com\")\n",
    "pyautogui.press(\"tab\") \n",
    "pyautogui.write(\"sua senha aqui\")\n",
    "pyautogui.press(\"tab\") \n",
    "pyautogui.press(\"enter\")\n",
    "\n",
    "time.sleep(3)\n",
    "\n",
    "import pandas as pd\n",
    "tabela = pd.read_csv('produtos.csv')\n",
    "\n",
    "pyautogui.click(x=710, y=276)\n",
    "\n",
    "for linha in tabela.index:\n",
    "    pyautogui.click(x=710, y=276)\n",
    "    \n",
    "    codigo = tabela.loc[linha, \"codigo\"]\n",
    "    marca = tabela.loc[linha, \"marca\"]\n",
    "    tipo = tabela.loc[linha, \"tipo\"]\n",
    "    categoria = tabela.loc[linha, \"categoria\"]\n",
    "    preco_unitario = tabela.loc[linha, \"preco_unitario\"]\n",
    "    custo = tabela.loc[linha, \"custo\"]\n",
    "    obs = tabela.loc[linha, \"obs\"]\n",
    "   \n",
    "\n",
    "    # preencher os campos\n",
    "    pyautogui.write(str(codigo))\n",
    "    pyautogui.press(\"tab\")\n",
    "    pyautogui.write(str(marca))\n",
    "    pyautogui.press(\"tab\")\n",
    "    pyautogui.write(str(tipo))\n",
    "    pyautogui.press(\"tab\")\n",
    "    pyautogui.write(str(categoria))\n",
    "    pyautogui.press(\"tab\")\n",
    "    pyautogui.write(str(preco_unitario))\n",
    "    pyautogui.press(\"tab\")\n",
    "    pyautogui.write(str(custo))\n",
    "    pyautogui.press(\"tab\")\n",
    "    pyautogui.write(str(obs))\n",
    "    \n",
    "    # apertar para enviar\n",
    "    pyautogui.press(\"tab\")\n",
    "    pyautogui.press(\"enter\")\n",
    "\n",
    "    # subindo para continuar inserindo\n",
    "    pyautogui.scroll(50000)\n"
   ]
  },
  {
   "cell_type": "code",
   "execution_count": 45,
   "id": "359f6581",
   "metadata": {},
   "outputs": [
    {
     "data": {
      "text/plain": [
       "RangeIndex(start=0, stop=293, step=1)"
      ]
     },
     "execution_count": 45,
     "metadata": {},
     "output_type": "execute_result"
    }
   ],
   "source": []
  },
  {
   "cell_type": "code",
   "execution_count": null,
   "id": "6b2d205f",
   "metadata": {},
   "outputs": [],
   "source": []
  }
 ],
 "metadata": {
  "kernelspec": {
   "display_name": "Python 3 (ipykernel)",
   "language": "python",
   "name": "python3"
  },
  "language_info": {
   "codemirror_mode": {
    "name": "ipython",
    "version": 3
   },
   "file_extension": ".py",
   "mimetype": "text/x-python",
   "name": "python",
   "nbconvert_exporter": "python",
   "pygments_lexer": "ipython3",
   "version": "3.11.4"
  }
 },
 "nbformat": 4,
 "nbformat_minor": 5
}
